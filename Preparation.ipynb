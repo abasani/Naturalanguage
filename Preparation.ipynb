{
 "cells": [
  {
   "cell_type": "markdown",
   "metadata": {},
   "source": [
    "# Cracking the coding Interview\n",
    "- Go breadth wise\n",
    "- Chapters 1-5 and 7-10\n",
    "- Iterate 10 chapters over and over (Practice,study each day)\n"
   ]
  },
  {
   "cell_type": "markdown",
   "metadata": {},
   "source": [
    "# Leetcode\n",
    "Strategies\n",
    "- What are most problems that often comeup(Frequency)\n",
    "- Top 100 most popular or 100 liked questions\n",
    "- https://www.byte-by-byte.com/50-questions/\n",
    "- https://www.teamblind.com/post/New-Year-Gift---Curated-List-of-Top-100-LeetCode-Questions-to-Save-Your-Time-OaM1orEU \n"
   ]
  },
  {
   "cell_type": "markdown",
   "metadata": {},
   "source": [
    "What is the goal of the problem, Understand the problem.\n",
    "- Spend 30 min on the problem\n",
    "- If you can't do, check the solution\n",
    "- Understand the thought process of how the problem to solution "
   ]
  },
  {
   "cell_type": "markdown",
   "metadata": {},
   "source": [
    "Start with easy problems \n",
    "- Work with way up\n",
    "- Easy problems week1 to week2 (medium) to week3 (hard)\n"
   ]
  },
  {
   "cell_type": "markdown",
   "metadata": {},
   "source": [
    "Simulate real world -interviews\n",
    "- Start on piece of paper/Whiteboard (not on leetcode)\n",
    "- wite same code in leetcode.\n",
    "- Learn mistakes on problems, list of mistakes,errors and fixes"
   ]
  },
  {
   "cell_type": "markdown",
   "metadata": {},
   "source": [
    "When Stuck in between problem\n",
    "- If you can solve with more time and have idea, take time and solve\n",
    "- If NO IDEA - Go t solutions and understand the working of problem \n",
    "- Recreate it\n",
    "- Understand if that is a sliding window pronlem, make a list and understand it thoroughly by spending time on similar problems\n"
   ]
  },
  {
   "cell_type": "markdown",
   "metadata": {},
   "source": [
    "-------------------------------------------------------------------"
   ]
  },
  {
   "cell_type": "markdown",
   "metadata": {},
   "source": [
    "# REMEMBER\n",
    "\n",
    "- Coursera \"Learning how to learn\"\n",
    "- Read/Understandmakes sense - It doesn't mean that we reconstruct the thing.     Understand at deep level\n",
    "\n",
    "Strategy:\n",
    "# ReCall\n",
    "- Start with the topic behind problem,\n",
    "- Get more specific (Learning sliding window algorithm)\n",
    "- Find resource - read it , study it (15min).\n",
    "- Close the book \n",
    "- Start coding from stratch(RECREATED)\n",
    "- \"IF STUCK, YOU KNOW WHERE YOU STUCK EXACTLY AT WHAT POINT AND WHERE YOU CAN'T CONTINUE, \"\n",
    "- Now we study how to do \"THAT PART \" and proceed.\n",
    "\n",
    "# COMEBACK TO IT ONCE A WEEK\n",
    "- What you learnt-revise"
   ]
  },
  {
   "cell_type": "markdown",
   "metadata": {},
   "source": [
    "# Asymmetrical MindSet\n",
    "- Don't either come up with o solutions or best solutions\n",
    "- Have a \"STRATEGY OF PROBLEM\", you have something that works for that kind of problems.\n",
    "- \"BRUTEFORCE SOLUTION\" and then you analyse and get a better solution.\n",
    "- For dynamic programming\n",
    "https://www.byte-by-byte.com/dpbook/\n"
   ]
  },
  {
   "cell_type": "markdown",
   "metadata": {},
   "source": [
    "# FOCUS ON MOSTCOMMON QUESTIONS\n",
    "- Not BitManupilation\n",
    "- Not System Design\n",
    "\n",
    "- ARRAYS AND STRINGS\n",
    "- TREE AND GRAPH PROBLEMS\n",
    "- DP AND RECURSION PROBLEMS\n",
    "- A* Algorithm for machine learning \n",
    "\n"
   ]
  },
  {
   "cell_type": "markdown",
   "metadata": {},
   "source": [
    "# DAIRY\n",
    "- Every day, I'm most productive at what HOURS (PRODUCTIVE TIME)\n",
    "- 6 - 10 am?\n",
    "- Plan out how you can do consistently\n",
    "- Making a Plan \n",
    "   - Top 3 goalsof the day, week, month\n",
    "   - One thing I do a day or week or month\n"
   ]
  },
  {
   "cell_type": "code",
   "execution_count": null,
   "metadata": {},
   "outputs": [],
   "source": []
  },
  {
   "cell_type": "code",
   "execution_count": null,
   "metadata": {},
   "outputs": [],
   "source": []
  },
  {
   "cell_type": "code",
   "execution_count": null,
   "metadata": {},
   "outputs": [],
   "source": []
  },
  {
   "cell_type": "code",
   "execution_count": null,
   "metadata": {},
   "outputs": [],
   "source": []
  },
  {
   "cell_type": "code",
   "execution_count": null,
   "metadata": {},
   "outputs": [],
   "source": []
  },
  {
   "cell_type": "code",
   "execution_count": null,
   "metadata": {},
   "outputs": [],
   "source": []
  },
  {
   "cell_type": "code",
   "execution_count": null,
   "metadata": {},
   "outputs": [],
   "source": []
  },
  {
   "cell_type": "code",
   "execution_count": null,
   "metadata": {},
   "outputs": [],
   "source": []
  },
  {
   "cell_type": "code",
   "execution_count": null,
   "metadata": {},
   "outputs": [],
   "source": []
  },
  {
   "cell_type": "code",
   "execution_count": null,
   "metadata": {},
   "outputs": [],
   "source": []
  }
 ],
 "metadata": {
  "kernelspec": {
   "display_name": "Python 3",
   "language": "python",
   "name": "python3"
  },
  "language_info": {
   "codemirror_mode": {
    "name": "ipython",
    "version": 3
   },
   "file_extension": ".py",
   "mimetype": "text/x-python",
   "name": "python",
   "nbconvert_exporter": "python",
   "pygments_lexer": "ipython3",
   "version": "3.7.6"
  }
 },
 "nbformat": 4,
 "nbformat_minor": 4
}
