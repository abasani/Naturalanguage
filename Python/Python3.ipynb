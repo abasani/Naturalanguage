{
 "cells": [
  {
   "cell_type": "code",
   "execution_count": 2,
   "metadata": {},
   "outputs": [
    {
     "name": "stdout",
     "output_type": "stream",
     "text": [
      "enteranjana\n",
      "anjana\n"
     ]
    }
   ],
   "source": [
    "x = input(\"enter\")\n",
    "print(x)"
   ]
  },
  {
   "cell_type": "code",
   "execution_count": 3,
   "metadata": {},
   "outputs": [
    {
     "data": {
      "text/plain": [
       "1.5"
      ]
     },
     "execution_count": 3,
     "metadata": {},
     "output_type": "execute_result"
    }
   ],
   "source": [
    "3/2"
   ]
  },
  {
   "cell_type": "code",
   "execution_count": 4,
   "metadata": {},
   "outputs": [
    {
     "data": {
      "text/plain": [
       "1"
      ]
     },
     "execution_count": 4,
     "metadata": {},
     "output_type": "execute_result"
    }
   ],
   "source": [
    "3//2"
   ]
  },
  {
   "cell_type": "code",
   "execution_count": 14,
   "metadata": {},
   "outputs": [
    {
     "name": "stdout",
     "output_type": "stream",
     "text": [
      "1\n",
      "3\n"
     ]
    }
   ],
   "source": [
    "for x in range(1,5,2):\n",
    "    print(x)"
   ]
  },
  {
   "cell_type": "code",
   "execution_count": 1,
   "metadata": {},
   "outputs": [
    {
     "name": "stdout",
     "output_type": "stream",
     "text": [
      "H\n",
      "e\n"
     ]
    }
   ],
   "source": [
    "gen = (letter for letter in 'Hello World') # creates generator object\n",
    "x = next(gen) #allowed in Python 2 and Python 3\n",
    "print(x)\n",
    "print(next(gen))"
   ]
  },
  {
   "cell_type": "code",
   "execution_count": 2,
   "metadata": {},
   "outputs": [
    {
     "name": "stdout",
     "output_type": "stream",
     "text": [
      "314.0\n",
      "area 314.0\n"
     ]
    }
   ],
   "source": [
    "def area(x,y = 3.14): # formal parameters\n",
    "   a = y*x*x\n",
    "   print (a)\n",
    "   return a\n",
    "\n",
    "a = area(10)\n",
    "print(\"area\",a)"
   ]
  },
  {
   "cell_type": "markdown",
   "metadata": {},
   "source": [
    "CLASS names start with UPPER CASE, remaining all in lowercase\n",
    "\n",
    "- _identifier means PRIVATE(UNDERSCORE)\n",
    "- __identifier means Strong identifier\n",
    "- __identifier__ means langauage-defined special name\n"
   ]
  },
  {
   "cell_type": "markdown",
   "metadata": {},
   "source": [
    "#Reserved words\n",
    "\n",
    "- and , exec, not, as, finally, or, assert, for , pass, break,from , print, class global, raise, continue, if, return, def, import, try, del, in, while,elif,is,with, else, lambda, yield, except"
   ]
  },
  {
   "cell_type": "code",
   "execution_count": 21,
   "metadata": {},
   "outputs": [
    {
     "name": "stdout",
     "output_type": "stream",
     "text": [
      "2\n"
     ]
    }
   ],
   "source": [
    "'''\n",
    "This is a multiline\n",
    "comment.\n",
    "'''\n",
    "x = 2\n",
    "print(x)"
   ]
  },
  {
   "cell_type": "markdown",
   "metadata": {},
   "source": [
    "#if, while, def, and class require a header line and a suite\n",
    "#Header lines begin the statement (with the keyword) and terminate with a colon ( : ) and are followed by one or more lines which make up the suite#\n",
    "if expression : \n",
    "   suite\n",
    "elif expression : \n",
    "   suite \n",
    "else : \n",
    "   suite\n"
   ]
  },
  {
   "cell_type": "code",
   "execution_count": 3,
   "metadata": {},
   "outputs": [
    {
     "name": "stdout",
     "output_type": "stream",
     "text": [
      "1\n",
      "2\n",
      "john\n"
     ]
    }
   ],
   "source": [
    "a, b, c = 1, 2, \"john\"\n",
    "print(a)\n",
    "print(b)\n",
    "print(c)\n",
    "del b,c\n"
   ]
  },
  {
   "cell_type": "markdown",
   "metadata": {},
   "source": [
    "DATATYPES\n",
    "Numbers - int (signed integers)- All integers in Python3 are long integers\n",
    "           float (floating point real values)\n",
    "            complex (complex numbers)\n",
    "            \n",
    "String\n",
    "List\n",
    "Tuple\n",
    "Dictionary"
   ]
  },
  {
   "cell_type": "code",
   "execution_count": 5,
   "metadata": {},
   "outputs": [
    {
     "name": "stdout",
     "output_type": "stream",
     "text": [
      "Hello World!\n",
      "H\n",
      "llo W\n",
      "llo World!\n",
      "Hello World!Hello World!\n",
      "Hello World!TEST\n"
     ]
    }
   ],
   "source": [
    "'''\n",
    "STRING\n",
    "\n",
    "(*) is the repetition operator\n",
    "(+) sign is the string concatenation operator\n",
    "[::] slicing string from 0 to n-1\n",
    "str = 'Hello World!'\n",
    "'''\n",
    "str = 'Hello World!'\n",
    "print (str)          # Prints complete string\n",
    "print (str[0])       # Prints first character of the string\n",
    "print (str[2:7])     # Prints characters starting from 3rd to 5th\n",
    "print (str[2:])      # Prints string starting from 3rd character\n",
    "print (str * 2)      # Prints string two times\n",
    "print (str + \"TEST\") # Prints concatenated string"
   ]
  },
  {
   "cell_type": "code",
   "execution_count": 28,
   "metadata": {},
   "outputs": [
    {
     "name": "stdout",
     "output_type": "stream",
     "text": [
      "['abcd', 786, 2.23, 'john', 70.2]\n",
      "abcd\n",
      "[786, 2.23]\n",
      "[2.23, 'john', 70.2]\n",
      "[123, 'john', 123, 'john']\n",
      "['abcd', 786, 2.23, 'john', 70.2, 123, 'john']\n"
     ]
    }
   ],
   "source": [
    "'''\n",
    "LIST \n",
    "\n",
    "(ARRAYS has data of same type, List can hold different data,)ArraysVsList\n",
    "list contains items separated by commas and enclosed within square brackets ([])\n",
    "[:] - List elements accessed by slice operator using index 0 to n-1\n",
    "(+) sign is the list concatenation operator\n",
    "(*) is the repetition operator\n",
    "'''\n",
    "list = [ 'abcd', 786 , 2.23, 'john', 70.2 ]\n",
    "tinylist = [123, 'john']\n",
    "\n",
    "print (list)          # Prints complete list\n",
    "print (list[0])       # Prints first element of the list\n",
    "print (list[1:3])     # Prints elements starting from 2nd till 3rd \n",
    "print (list[2:])      # Prints elements starting from 3rd element\n",
    "print (tinylist * 2)  # Prints list two times\n",
    "print (list + tinylist) # Prints concatenated lists\n"
   ]
  },
  {
   "cell_type": "code",
   "execution_count": 7,
   "metadata": {},
   "outputs": [
    {
     "name": "stdout",
     "output_type": "stream",
     "text": [
      "('abcd', 786, 2.23, 'john', 70.2)\n",
      "abcd\n",
      "(786, 2.23)\n",
      "(2.23, 'john', 70.2)\n",
      "(123, 'john', 123, 'john')\n",
      "('abcd', 786, 2.23, 'john', 70.2, 123, 'john')\n"
     ]
    }
   ],
   "source": [
    "'''\n",
    "TUPLES\n",
    "\n",
    "(Lists size and elements can be changed, tuples cant be updated-read only) LIST Vs Tuple\n",
    "()enclosed in parentheses\n",
    "'''\n",
    "tuple = ( 'abcd', 786 , 2.23, 'john', 70.2  )\n",
    "tinytuple = (123, 'john')\n",
    "\n",
    "print (tuple)           # Prints complete tuple\n",
    "print (tuple[0])        # Prints first element of the tuple\n",
    "print (tuple[1:3])      # Prints elements starting from 2nd till 3rd \n",
    "print (tuple[2:])       # Prints elements starting from 3rd element\n",
    "print (tinytuple * 2)   # Prints tuple two times\n",
    "print (tuple + tinytuple) # Prints concatenated tuple\n",
    "tuple = ( 'abcd', 786 , 2.23, 'john', 70.2  )\n",
    "list = [ 'abcd', 786 , 2.23, 'john', 70.2  ]\n",
    "#tuple[2] = 1000    # Invalid syntax with tuple(updating the element)\n",
    "#list[2] = 1000     # Valid syntax with list"
   ]
  },
  {
   "cell_type": "code",
   "execution_count": 31,
   "metadata": {},
   "outputs": [
    {
     "name": "stdout",
     "output_type": "stream",
     "text": [
      "This is one\n",
      "This is two\n",
      "{'name': 'john', 'code': 6734, 'dept': 'sales'}\n",
      "dict_keys(['name', 'code', 'dept'])\n",
      "dict_values(['john', 6734, 'sales'])\n"
     ]
    }
   ],
   "source": [
    "'''\n",
    "DICTIONARY\n",
    "\n",
    "They work like associative arrays or hashes,consist of key-value pairs\n",
    "{ } - ENCLOSED\n",
    "KEY can be almost any Python type, but are usually numbers or strings.\n",
    "VALUE: can be any arbitrary Python object\n",
    "-NO ORDER OF ELEMENTS\n",
    "'''\n",
    "dict = {}\n",
    "dict['one'] = \"This is one\"\n",
    "dict[2]     = \"This is two\"\n",
    "\n",
    "tinydict = {'name': 'john','code':6734, 'dept': 'sales'}\n",
    "\n",
    "print (dict['one'])       # Prints value for 'one' key\n",
    "print (dict[2])           # Prints value for 2 key\n",
    "print (tinydict)          # Prints complete dictionary\n",
    "print (tinydict.keys())   # Prints all the keys\n",
    "print (tinydict.values()) # Prints all the values"
   ]
  },
  {
   "cell_type": "markdown",
   "metadata": {},
   "source": [
    "'''\n",
    "DATA TYPE CONVERSION\n",
    "\n",
    "int(x [,base])\n",
    "\n",
    "Converts x to an integer. The base specifies the base if x is a string.\n",
    "\n",
    "2\t\n",
    "float(x)\n",
    "\n",
    "Converts x to a floating-point number.\n",
    "\n",
    "3\t\n",
    "complex(real [,imag])\n",
    "\n",
    "Creates a complex number.\n",
    "\n",
    "4\t\n",
    "str(x)\n",
    "\n",
    "Converts object x to a string representation.\n",
    "\n",
    "5\t\n",
    "repr(x)\n",
    "\n",
    "Converts object x to an expression string.\n",
    "\n",
    "6\t\n",
    "eval(str)\n",
    "\n",
    "Evaluates a string and returns an object.\n",
    "\n",
    "7\t\n",
    "tuple(s)\n",
    "\n",
    "Converts s to a tuple.\n",
    "\n",
    "8\t\n",
    "list(s)\n",
    "\n",
    "Converts s to a list.\n",
    "\n",
    "9\t\n",
    "set(s)\n",
    "\n",
    "Converts s to a set.\n",
    "\n",
    "10\t\n",
    "dict(d)\n",
    "\n",
    "Creates a dictionary. d must be a sequence of (key,value) tuples.\n",
    "\n",
    "11\t\n",
    "frozenset(s)\n",
    "\n",
    "Converts s to a frozen set.\n",
    "\n",
    "12\t\n",
    "chr(x)\n",
    "\n",
    "Converts an integer to a character.\n",
    "\n",
    "13\t\n",
    "unichr(x)\n",
    "\n",
    "Converts an integer to a Unicode character.\n",
    "\n",
    "14\t\n",
    "ord(x)\n",
    "\n",
    "Converts a single character to its integer value.\n",
    "\n",
    "15\t\n",
    "hex(x)\n",
    "\n",
    "Converts an integer to a hexadecimal string.\n",
    "\n",
    "16\t\n",
    "oct(x)\n",
    "\n",
    "Converts an integer to an octal string.\n",
    "'''"
   ]
  },
  {
   "cell_type": "code",
   "execution_count": 33,
   "metadata": {},
   "outputs": [
    {
     "name": "stdout",
     "output_type": "stream",
     "text": [
      "0b1010\n"
     ]
    }
   ],
   "source": [
    "'''\n",
    "BASIC OPERATORS\n",
    "\n",
    "+,   -  ,  *  ,  /  ,  %  ,  **  ,  // ARITHMETIC\n",
    "\n",
    "==, != , > , <, >= , <=             COMPARISION\n",
    "\n",
    "= , += , ... for arthimetic operators\n",
    "\n",
    "& , |, ^ , ~ , << , >>                BITWISE\n",
    "\n",
    "bin(10) -Gives binary value for 10\n",
    "\n",
    "and, or , not                        LOGICAL\n",
    "in , not in                          Membership\n",
    "is, is not                        IDENTITY\n",
    "\n",
    "'''\n",
    "print(bin(10)) #Gives binary value for 10\n"
   ]
  },
  {
   "cell_type": "markdown",
   "metadata": {},
   "source": [
    "In python, \n",
    "- any non-zero and non-null values as TRUE, and \n",
    "- any zero or null values as FALSE value."
   ]
  },
  {
   "cell_type": "code",
   "execution_count": 36,
   "metadata": {},
   "outputs": [
    {
     "name": "stdout",
     "output_type": "stream",
     "text": [
      "Enter amount: 999\n",
      "Discount 49.95\n",
      "Net payable: 949.05\n"
     ]
    }
   ],
   "source": [
    "'''\n",
    "IF - Decision making ( if, else, elif)\n",
    "'''\n",
    "amount = int(input(\"Enter amount: \"))\n",
    "\n",
    "if amount<1000:\n",
    "   discount = amount*0.05\n",
    "   print (\"Discount\",discount)\n",
    "elif amount<5000:\n",
    "   discount = amount*0.10\n",
    "   print (\"Discount\",discount)\n",
    "else:\n",
    "   discount = amount*0.15\n",
    "   print (\"Discount\",discount)\n",
    "    \n",
    "print (\"Net payable:\",amount-discount)"
   ]
  },
  {
   "cell_type": "code",
   "execution_count": 37,
   "metadata": {},
   "outputs": [
    {
     "name": "stdout",
     "output_type": "stream",
     "text": [
      "The count is: 0\n",
      "The count is: 1\n",
      "The count is: 2\n",
      "The count is: 3\n",
      "The count is: 4\n",
      "The count is: 5\n",
      "The count is: 6\n",
      "The count is: 7\n",
      "The count is: 8\n",
      "Good bye!\n"
     ]
    }
   ],
   "source": [
    "'''\n",
    "LOOPS - while , for , nested loops\n",
    "\n",
    "WHILE - checks condition and execute statements below\n",
    "'''\n",
    "count = 0\n",
    "while (count < 9):\n",
    "   print ('The count is:', count)\n",
    "   count = count + 1\n",
    "\n",
    "print (\"Good bye!\")\n"
   ]
  },
  {
   "cell_type": "code",
   "execution_count": null,
   "metadata": {},
   "outputs": [],
   "source": [
    "'''\n",
    "INFINITE LOOP\n",
    "\n",
    "While can lead to Infinite loop if condition never becomes false\n",
    "Used for Client/Server where server needs to be up when required\n",
    "\n",
    "'''\n",
    "var = 1\n",
    "while var == 1 :  # This constructs an infinite loop\n",
    "   num = int(input(\"Enter a number  :\"))\n",
    "   print (\"You entered: \", num)\n",
    "\n",
    "print (\"Good bye!\")\n",
    "\n",
    "# this program exits at Cntrl+C to exit"
   ]
  },
  {
   "cell_type": "code",
   "execution_count": 38,
   "metadata": {},
   "outputs": [
    {
     "name": "stdout",
     "output_type": "stream",
     "text": [
      "0  is  less than 5\n",
      "1  is  less than 5\n",
      "2  is  less than 5\n",
      "3  is  less than 5\n",
      "4  is  less than 5\n",
      "5  is not less than 5\n"
     ]
    }
   ],
   "source": [
    "'''\n",
    "ELSE with LOOPS\n",
    "\n",
    "If the else statement is used with a for loop, the else statement is executed when the loop has exhausted iterating the list.\n",
    "\n",
    "If the else statement is used with a while loop, the else statement is executed when the condition becomes false.\n",
    "'''\n",
    "\n",
    "count = 0\n",
    "while count < 5:\n",
    "   print (count, \" is  less than 5\")\n",
    "   count = count + 1\n",
    "else:\n",
    "   print (count, \" is not less than 5\")"
   ]
  },
  {
   "cell_type": "code",
   "execution_count": 45,
   "metadata": {},
   "outputs": [
    {
     "name": "stdout",
     "output_type": "stream",
     "text": [
      "the list doesnot contain even number\n"
     ]
    }
   ],
   "source": [
    "numbers = [11,33,55,39,55,75,37,21,23,41,13]\n",
    "\n",
    "for num in numbers:\n",
    "   if num%2 == 0:\n",
    "      print ('the list contains an even number')\n",
    "      break\n",
    "else:\n",
    "   print ('the list doesnot contain even number')"
   ]
  },
  {
   "cell_type": "markdown",
   "metadata": {},
   "source": [
    "'''\n",
    "FOR \n",
    "\n",
    "for iterating_var in sequence:\n",
    "           statements(s)\n",
    "sequence is a list or string\n",
    "'''\n"
   ]
  },
  {
   "cell_type": "code",
   "execution_count": 43,
   "metadata": {},
   "outputs": [
    {
     "name": "stdout",
     "output_type": "stream",
     "text": [
      "Current Letter : P\n",
      "Current Letter : y\n",
      "Current Letter : t\n",
      "Current Letter : h\n",
      "Current Letter : o\n",
      "Current Letter : n\n",
      "\n",
      "Current fruit : banana\n",
      "Current fruit : apple\n",
      "Current fruit : mango\n",
      "Good bye!\n"
     ]
    }
   ],
   "source": [
    "for letter in 'Python':     # traversal of a string sequence\n",
    "   print ('Current Letter :', letter)\n",
    "print()\n",
    "fruits = ['banana', 'apple',  'mango']\n",
    "\n",
    "for fruit in fruits:        # traversal of List sequence\n",
    "   print ('Current fruit :', fruit)\n",
    "\n",
    "print (\"Good bye!\")"
   ]
  },
  {
   "cell_type": "code",
   "execution_count": 44,
   "metadata": {},
   "outputs": [
    {
     "name": "stdout",
     "output_type": "stream",
     "text": [
      "Current fruit : banana\n",
      "Current fruit : apple\n",
      "Current fruit : mango\n",
      "Good bye!\n"
     ]
    }
   ],
   "source": [
    "'''\n",
    "Iterating with index'''\n",
    "fruits = ['banana', 'apple',  'mango']\n",
    "for index in range(len(fruits)):\n",
    "   print ('Current fruit :', fruits[index])\n",
    "\n",
    "print (\"Good bye!\")"
   ]
  },
  {
   "cell_type": "code",
   "execution_count": 46,
   "metadata": {},
   "outputs": [
    {
     "name": "stdout",
     "output_type": "stream",
     "text": [
      "Current Letter : P\n",
      "Current Letter : y\n",
      "Current Letter : t\n",
      "Current variable value : 10\n",
      "Current variable value : 9\n",
      "Current variable value : 8\n",
      "Current variable value : 7\n",
      "Current variable value : 6\n",
      "Good bye!\n"
     ]
    }
   ],
   "source": [
    "'''\n",
    "\n",
    "LOOP CONTROL STATEMENTS\n",
    "\n",
    "break - terminates the loop \n",
    "'''\n",
    "\n",
    "for letter in 'Python':     # First Example\n",
    "   if letter == 'h':\n",
    "      break\n",
    "   print ('Current Letter :', letter)\n",
    "  \n",
    "var = 10                    # Second Example\n",
    "while var > 0:              \n",
    "   print ('Current variable value :', var)\n",
    "   var = var -1\n",
    "   if var == 5:\n",
    "      break\n",
    "\n",
    "print (\"Good bye!\")"
   ]
  },
  {
   "cell_type": "code",
   "execution_count": 47,
   "metadata": {},
   "outputs": [
    {
     "name": "stdout",
     "output_type": "stream",
     "text": [
      "Current Letter : P\n",
      "Current Letter : y\n",
      "Current Letter : t\n",
      "Current Letter : o\n",
      "Current Letter : n\n",
      "Current variable value : 9\n",
      "Current variable value : 8\n",
      "Current variable value : 7\n",
      "Current variable value : 6\n",
      "Current variable value : 4\n",
      "Current variable value : 3\n",
      "Current variable value : 2\n",
      "Current variable value : 1\n",
      "Current variable value : 0\n",
      "Good bye!\n"
     ]
    }
   ],
   "source": [
    "'''\n",
    "\n",
    "CONTINUE\n",
    "continue statement in Python returns the control to the beginning of the current loop\n",
    "When encountered, the loop starts next iteration without executing the remaining statements in the current iteration.\n",
    "'''\n",
    "for letter in 'Python':     # First Example\n",
    "   if letter == 'h':\n",
    "      continue\n",
    "   print ('Current Letter :', letter)\n",
    "\n",
    "var = 10                    # Second Example\n",
    "while var > 0:              \n",
    "   var = var -1\n",
    "   if var == 5:\n",
    "      continue\n",
    "   print ('Current variable value :', var)\n",
    "print (\"Good bye!\")\n"
   ]
  },
  {
   "cell_type": "code",
   "execution_count": 48,
   "metadata": {},
   "outputs": [
    {
     "name": "stdout",
     "output_type": "stream",
     "text": [
      "Current Letter : P\n",
      "Current Letter : y\n",
      "Current Letter : t\n",
      "This is pass block\n",
      "Current Letter : h\n",
      "Current Letter : o\n",
      "Current Letter : n\n",
      "Good bye!\n"
     ]
    }
   ],
   "source": [
    "#PASS\n",
    "\n",
    "#when a statement is required syntactically but you do not want any command or code to execute.\n",
    "#pass statement is a null operation; nothing happens when it executes\n",
    "for letter in 'Python': \n",
    "   if letter == 'h':\n",
    "      pass\n",
    "      print ('This is pass block')\n",
    "   print ('Current Letter :', letter)\n",
    "\n",
    "print (\"Good bye!\")"
   ]
  },
  {
   "cell_type": "code",
   "execution_count": 71,
   "metadata": {},
   "outputs": [
    {
     "name": "stdout",
     "output_type": "stream",
     "text": [
      "1\n"
     ]
    }
   ],
   "source": [
    "'''\n",
    "Iterator\n",
    "\n",
    "Iterator is an object which allows a programmer to traverse through all the elements of a collection\n",
    "iter() and next() #METHODS\n",
    "\n",
    "'''\n",
    "import sys\n",
    "list = [1,2,3,4]\n",
    "it = iter(list) # this builds an iterator object\n",
    "print (next(it))"
   ]
  },
  {
   "cell_type": "code",
   "execution_count": 8,
   "metadata": {},
   "outputs": [
    {
     "name": "stdout",
     "output_type": "stream",
     "text": [
      "1\n",
      "2\n",
      "4\n",
      "8\n",
      "16\n",
      "32\n"
     ]
    }
   ],
   "source": [
    "'''\n",
    "Generator\n",
    "function that produces or yields a sequence of values using yield method\n",
    "instead of return yield\n",
    "\n",
    "it stores the states\n",
    "#MEMORY EFFICIENT FOR STREAMING , NO ALLOCATION OF MEMORY PRIOR, STORES SYMULTANUOUSLY \n",
    "'''\n",
    "\n",
    "def twopower(): # generator function with yield\n",
    "    n = 0\n",
    "    while (n< 6):\n",
    "        yield 2**n #\n",
    "        n+=1\n",
    "a = twopower() #creates generator object\n",
    "\n",
    "# for printing all yield states or collection\n",
    "for i in twopower():  \n",
    "    print(i)\n",
    "\n",
    "# for printing one by one\n",
    "#next(a)"
   ]
  },
  {
   "cell_type": "code",
   "execution_count": 84,
   "metadata": {},
   "outputs": [
    {
     "name": "stdout",
     "output_type": "stream",
     "text": [
      "My name is Zara and weight is 21 kg!\n",
      "My name is Zara and weight is 21 kg!\n"
     ]
    }
   ],
   "source": [
    "#String formatiing \n",
    "print (\"My name is %s and weight is %d kg!\" % ('Zara', 21)) \n",
    "print (\"My name is {} and weight is {} kg!\".format('Zara', 21))"
   ]
  },
  {
   "cell_type": "code",
   "execution_count": 86,
   "metadata": {},
   "outputs": [
    {
     "name": "stdout",
     "output_type": "stream",
     "text": [
      "C:\\nowhere\n",
      "C:\\\\nowhere\n"
     ]
    }
   ],
   "source": [
    "#Raw String\n",
    "#Print raw string with out executing \\n or \\t in the string\n",
    "print ('C:\\\\nowhere')\n",
    "print (r'C:\\\\nowhere')"
   ]
  },
  {
   "cell_type": "code",
   "execution_count": 96,
   "metadata": {},
   "outputs": [
    {
     "name": "stdout",
     "output_type": "stream",
     "text": [
      "False\n",
      "False\n"
     ]
    },
    {
     "data": {
      "text/plain": [
       "'jfhunHUKN '"
      ]
     },
     "execution_count": 96,
     "metadata": {},
     "output_type": "execute_result"
    }
   ],
   "source": [
    "#STRING METHODS\n",
    "\n",
    "s = \"jfhunHUKN \"\n",
    "s.capitalize()\n",
    "\n",
    "s.center(15, 'f') #center(width, fillchar)\n",
    "\n",
    "s.count('hun') #count(str, beg = 0,end = len(string))\n",
    "\n",
    "s.endswith('KN')#endswith(suffix, beg = 0, end = len(string)) beginnning and end of string \n",
    "s.find('fh')#find(str, beg = 0 end = len(string))\n",
    "#rfind - backwards\n",
    "s.index('j')#index(str, beg = 0, end = len(string))\n",
    "#rindex\n",
    "print(s.isalpha())\n",
    "print(s.isupper())\n",
    "s.join('NEWStringAttached')\n",
    "x = len(s)\n",
    "s.lower()\n",
    "s.lstrip() #Removes all leading whitespace in string.\n",
    "s.rstrip()\n",
    "s.replace('hun','hot',2)#replace(old, new [, max]) max 2 times\n",
    "s.split('n') #split(str=\"\", num=string.count(str)) \n",
    "# n is the delimiter\n",
    "s.splitlines# splits at new lines\n",
    "s.strip('kn')\n"
   ]
  },
  {
   "cell_type": "markdown",
   "metadata": {},
   "source": [
    "#List methods\n",
    "\n",
    "len(list)\n",
    "Gives the total length of the list.\n",
    "\n",
    "2\tmax(list)\n",
    "Returns item from the list with max value.\n",
    "\n",
    "3\tmin(list)\n",
    "Returns item from the list with min value.\n",
    "\n",
    "4\tlist(seq)\n",
    "Converts a tuple into list.\n",
    "\n",
    "Python includes the following list methods −\n",
    "\n",
    "Sr.No.\tMethods & Description\n",
    "1\tlist.append(obj)\n",
    "Appends object obj to list\n",
    "\n",
    "2\tlist.count(obj)\n",
    "Returns count of how many times obj occurs in list\n",
    "\n",
    "3\tlist.extend(seq)\n",
    "Appends the contents of seq to list\n",
    "\n",
    "4\tlist.index(obj)\n",
    "Returns the lowest index in list that obj appears\n",
    "\n",
    "5\tlist.insert(index, obj)\n",
    "Inserts object obj into list at offset index\n",
    "\n",
    "6\tlist.pop(obj = list[-1])\n",
    "Removes and returns last object or obj from list\n",
    "\n",
    "7\tlist.remove(obj)\n",
    "Removes object obj from list\n",
    "\n",
    "8\tlist.reverse()\n",
    "Reverses objects of list in place\n",
    "\n",
    "9\tlist.sort([func])\n",
    "Sorts objects of list, use compare func if given"
   ]
  },
  {
   "cell_type": "code",
   "execution_count": 97,
   "metadata": {},
   "outputs": [],
   "source": [
    "'''\n",
    "TUPLES - UNCHANGEABBLE \n",
    "\n",
    "'''\n",
    "tup1 = ('physics', 'chemistry', 1997, 2000)\n",
    "tup2 = (1, 2, 3, 4, 5 )\n",
    "tup3 = \"a\", \"b\", \"c\", \"d\"\n",
    "#NO UPDATING \n"
   ]
  },
  {
   "cell_type": "markdown",
   "metadata": {},
   "source": [
    "cmp(tuple1, tuple2)\n",
    "Compares elements of both tuples.\n",
    "\n",
    "2\tlen(tuple)\n",
    "Gives the total length of the tuple.\n",
    "\n",
    "3\tmax(tuple)\n",
    "Returns item from the tuple with max value.\n",
    "\n",
    "4\tmin(tuple)\n",
    "Returns item from the tuple with min value.\n",
    "\n",
    "5\ttuple(seq)\n",
    "Converts a list into tuple."
   ]
  },
  {
   "cell_type": "markdown",
   "metadata": {},
   "source": [
    "'''Dictionary \n",
    "'''\n",
    "#two keys of same name then last value wins for the key\n",
    "cmp(dict1, dict2)\n",
    "No longer available in Python 3.\n",
    "\n",
    "2\tlen(dict)\n",
    "Gives the total length of the dictionary. This would be equal to the number of items in the dictionary.\n",
    "\n",
    "3\tstr(dict)\n",
    "Produces a printable string representation of a dictionary\n",
    "\n",
    "4\ttype(variable)\n",
    "Returns the type of the passed variable. If passed variable is dictionary, then it would return a dictionary type.\n",
    "\n",
    "Python includes the following dictionary methods −\n",
    "\n",
    "1\tdict.clear()\n",
    "Removes all elements of dictionary dict\n",
    "\n",
    "2\tdict.copy()\n",
    "Returns a shallow copy of dictionary dict\n",
    "\n",
    "3\tdict.fromkeys()\n",
    "Create a new dictionary with keys from seq and values set to value.\n",
    "\n",
    "4\tdict.get(key, default=None)\n",
    "For key key, returns value or default if key not in dictionary\n",
    "\n",
    "5\tdict.has_key(key)\n",
    "Removed, use the in operation instead.\n",
    "\n",
    "6\tdict.items()\n",
    "Returns a list of dict's (key, value) tuple pairs\n",
    "\n",
    "7\tdict.keys()\n",
    "Returns list of dictionary dict's keys\n",
    "\n",
    "8\tdict.setdefault(key, default = None)\n",
    "Similar to get(), but will set dict[key] = default if key is not already in dict\n",
    "\n",
    "9\tdict.update(dict2)\n",
    "Adds dictionary dict2's key-values pairs to dict\n",
    "\n",
    "10\tdict.values()\n",
    "Returns list of dictionary dict's values"
   ]
  },
  {
   "cell_type": "code",
   "execution_count": 98,
   "metadata": {},
   "outputs": [
    {
     "name": "stdout",
     "output_type": "stream",
     "text": [
      "this is anjana \n"
     ]
    }
   ],
   "source": [
    "'''\n",
    "FUNCTION\n",
    "\n",
    "Function blocks begin with the keyword def followed by the function name and parentheses ( ( ) ).\n",
    "\n",
    "Any input parameters or arguments should be placed within these parentheses. You can also define parameters inside these parentheses.\n",
    "\n",
    "The first statement of a function can be an optional statement - the documentation string of the function or docstring.\n",
    "\n",
    "The code block within every function starts with a colon (:) and is indented.\n",
    "\n",
    "The statement return [expression] exits a function, optionally passing back an expression to the caller. A return statement with no arguments is the same as return None.\n",
    "\n",
    "'''\n",
    "def printme( str ):\n",
    "   \"This prints a passed string into this function\"\n",
    "   print (str)\n",
    "   return\n",
    "printme(\"this is anjana \")\n"
   ]
  },
  {
   "cell_type": "code",
   "execution_count": 99,
   "metadata": {},
   "outputs": [
    {
     "name": "stdout",
     "output_type": "stream",
     "text": [
      "Values inside the function before change:  [10, 20, 30]\n",
      "Values inside the function after change:  [10, 20, 50]\n",
      "Values outside the function:  [10, 20, 50]\n"
     ]
    }
   ],
   "source": [
    "#Pass by Reference vs Value\n",
    "\n",
    "#All parameters (arguments) in the Python language are passed by reference\n",
    "\n",
    "def changeme( mylist ):\n",
    "   \"This changes a passed list into this function\"\n",
    "   print (\"Values inside the function before change: \", mylist)\n",
    "   \n",
    "   mylist[2]=50 # referencing index as address\n",
    "    #mylist = [1,2,3,4,5] # no change outside the function\n",
    "   print (\"Values inside the function after change: \", mylist)\n",
    "   return\n",
    "\n",
    "# Now you can call changeme function\n",
    "mylist = [10,20,30]\n",
    "changeme( mylist )\n",
    "print (\"Values outside the function: \", mylist)"
   ]
  },
  {
   "cell_type": "code",
   "execution_count": 100,
   "metadata": {},
   "outputs": [
    {
     "name": "stdout",
     "output_type": "stream",
     "text": [
      "Name:  miki\n",
      "Age  50\n"
     ]
    }
   ],
   "source": [
    "'''\n",
    "Key word arguments\n",
    "'''\n",
    "def printinfo( name, age ):\n",
    "   \"This prints a passed info into this function\"\n",
    "   print (\"Name: \", name)\n",
    "   print (\"Age \", age)\n",
    "   return\n",
    "\n",
    "# Now you can call printinfo function\n",
    "printinfo( age = 50, name = \"miki\" )"
   ]
  },
  {
   "cell_type": "code",
   "execution_count": 101,
   "metadata": {},
   "outputs": [
    {
     "name": "stdout",
     "output_type": "stream",
     "text": [
      "Name:  miki\n",
      "Age  50\n",
      "Name:  miki\n",
      "Age  35\n"
     ]
    }
   ],
   "source": [
    "'''\n",
    "Defaault arguments\n",
    "'''\n",
    "def printinfo( name, age = 35 ):\n",
    "   \"This prints a passed info into this function\"\n",
    "   print (\"Name: \", name)\n",
    "   print (\"Age \", age)\n",
    "   return\n",
    "\n",
    "# Now you can call printinfo function\n",
    "printinfo( age = 50, name = \"miki\" )\n",
    "printinfo( name = \"miki\" )"
   ]
  },
  {
   "cell_type": "code",
   "execution_count": 102,
   "metadata": {},
   "outputs": [
    {
     "name": "stdout",
     "output_type": "stream",
     "text": [
      "Output is: \n",
      "10\n",
      "Output is: \n",
      "70\n",
      "60\n",
      "50\n"
     ]
    }
   ],
   "source": [
    "'''\n",
    "Variable length arguments\n",
    "'''\n",
    "\n",
    "def printinfo( arg1, *vartuple ):\n",
    "   \"This prints a variable passed arguments\"\n",
    "   print (\"Output is: \")\n",
    "   print (arg1)\n",
    "   \n",
    "   for var in vartuple:\n",
    "      print (var)\n",
    "   return\n",
    "\n",
    "# Now you can call printinfo function\n",
    "printinfo( 10 )\n",
    "printinfo( 70, 60, 50 )"
   ]
  },
  {
   "cell_type": "code",
   "execution_count": 103,
   "metadata": {},
   "outputs": [
    {
     "name": "stdout",
     "output_type": "stream",
     "text": [
      "30\n"
     ]
    }
   ],
   "source": [
    "'''\n",
    "Anonymous functions\n",
    "\n",
    "not with def but lambda keyword\n",
    "'''\n",
    "\n",
    "anjana = lambda malla , madhavi : malla+madhavi\n",
    "\n",
    "print(anjana(10, 20))\n"
   ]
  },
  {
   "cell_type": "code",
   "execution_count": 104,
   "metadata": {},
   "outputs": [
    {
     "name": "stdout",
     "output_type": "stream",
     "text": [
      "Name of the file:  foo.txt\n",
      "Closed or not :  False\n",
      "Opening mode :  wb\n"
     ]
    }
   ],
   "source": [
    "'''\n",
    "File I/O\n",
    "'''\n",
    "fo = open(\"foo.txt\", \"wb\")\n",
    "print (\"Name of the file: \", fo.name)\n",
    "print (\"Closed or not : \", fo.closed)\n",
    "print (\"Opening mode : \", fo.mode)\n",
    "fo.close()\n"
   ]
  },
  {
   "cell_type": "code",
   "execution_count": 105,
   "metadata": {},
   "outputs": [],
   "source": [
    "fo = open(\"foo.txt\", \"w\")\n",
    "fo.write( \"Python is a great language.\\nYeah its great!!\\n\")\n",
    "\n",
    "# Close opend file\n",
    "fo.close()"
   ]
  },
  {
   "cell_type": "code",
   "execution_count": 106,
   "metadata": {},
   "outputs": [
    {
     "name": "stdout",
     "output_type": "stream",
     "text": [
      "Read String is :  Python is \n"
     ]
    }
   ],
   "source": [
    "fo = open(\"foo.txt\", \"r+\")\n",
    "str = fo.read(10)\n",
    "print (\"Read String is : \", str)\n",
    "\n",
    "# Close opened file\n",
    "fo.close()"
   ]
  },
  {
   "cell_type": "code",
   "execution_count": 107,
   "metadata": {},
   "outputs": [
    {
     "name": "stdout",
     "output_type": "stream",
     "text": [
      "Read String is :  Python is \n",
      "Current file position :  10\n",
      "Again read String is :  Python is \n"
     ]
    }
   ],
   "source": [
    "fo = open(\"foo.txt\", \"r+\")\n",
    "str = fo.read(10)\n",
    "print (\"Read String is : \", str)\n",
    "\n",
    "# Check current position\n",
    "position = fo.tell()\n",
    "print (\"Current file position : \", position)\n",
    "\n",
    "# Reposition pointer at the beginning once again\n",
    "position = fo.seek(0, 0)\n",
    "str = fo.read(10)\n",
    "print (\"Again read String is : \", str)\n",
    "\n",
    "# Close opened file\n",
    "fo.close()"
   ]
  },
  {
   "cell_type": "markdown",
   "metadata": {},
   "source": [
    "os.rename('old.txt', 'new.txt')\n",
    "os.remove('new.txt')\n",
    "os.mkdir(\"newdir\")\n",
    "oschdir('kjsdh')"
   ]
  },
  {
   "cell_type": "code",
   "execution_count": 108,
   "metadata": {},
   "outputs": [
    {
     "name": "stdout",
     "output_type": "stream",
     "text": [
      "32.0\n",
      "451\n"
     ]
    },
    {
     "ename": "AssertionError",
     "evalue": "Colder than absolute zero!",
     "output_type": "error",
     "traceback": [
      "\u001b[1;31m---------------------------------------------------------------------------\u001b[0m",
      "\u001b[1;31mAssertionError\u001b[0m                            Traceback (most recent call last)",
      "\u001b[1;32m<ipython-input-108-a241c8941ce9>\u001b[0m in \u001b[0;36m<module>\u001b[1;34m\u001b[0m\n\u001b[0;32m     11\u001b[0m \u001b[0mprint\u001b[0m \u001b[1;33m(\u001b[0m\u001b[0mKelvinToFahrenheit\u001b[0m\u001b[1;33m(\u001b[0m\u001b[1;36m273\u001b[0m\u001b[1;33m)\u001b[0m\u001b[1;33m)\u001b[0m\u001b[1;33m\u001b[0m\u001b[1;33m\u001b[0m\u001b[0m\n\u001b[0;32m     12\u001b[0m \u001b[0mprint\u001b[0m \u001b[1;33m(\u001b[0m\u001b[0mint\u001b[0m\u001b[1;33m(\u001b[0m\u001b[0mKelvinToFahrenheit\u001b[0m\u001b[1;33m(\u001b[0m\u001b[1;36m505.78\u001b[0m\u001b[1;33m)\u001b[0m\u001b[1;33m)\u001b[0m\u001b[1;33m)\u001b[0m\u001b[1;33m\u001b[0m\u001b[1;33m\u001b[0m\u001b[0m\n\u001b[1;32m---> 13\u001b[1;33m \u001b[0mprint\u001b[0m \u001b[1;33m(\u001b[0m\u001b[0mKelvinToFahrenheit\u001b[0m\u001b[1;33m(\u001b[0m\u001b[1;33m-\u001b[0m\u001b[1;36m5\u001b[0m\u001b[1;33m)\u001b[0m\u001b[1;33m)\u001b[0m\u001b[1;33m\u001b[0m\u001b[1;33m\u001b[0m\u001b[0m\n\u001b[0m",
      "\u001b[1;32m<ipython-input-108-a241c8941ce9>\u001b[0m in \u001b[0;36mKelvinToFahrenheit\u001b[1;34m(Temperature)\u001b[0m\n\u001b[0;32m      6\u001b[0m \u001b[1;31m# assert (a > 0),'not greater than 0'\u001b[0m\u001b[1;33m\u001b[0m\u001b[1;33m\u001b[0m\u001b[1;33m\u001b[0m\u001b[0m\n\u001b[0;32m      7\u001b[0m \u001b[1;32mdef\u001b[0m \u001b[0mKelvinToFahrenheit\u001b[0m\u001b[1;33m(\u001b[0m\u001b[0mTemperature\u001b[0m\u001b[1;33m)\u001b[0m\u001b[1;33m:\u001b[0m\u001b[1;33m\u001b[0m\u001b[1;33m\u001b[0m\u001b[0m\n\u001b[1;32m----> 8\u001b[1;33m    \u001b[1;32massert\u001b[0m \u001b[1;33m(\u001b[0m\u001b[0mTemperature\u001b[0m \u001b[1;33m>=\u001b[0m \u001b[1;36m0\u001b[0m\u001b[1;33m)\u001b[0m\u001b[1;33m,\u001b[0m\u001b[1;34m\"Colder than absolute zero!\"\u001b[0m\u001b[1;33m\u001b[0m\u001b[1;33m\u001b[0m\u001b[0m\n\u001b[0m\u001b[0;32m      9\u001b[0m    \u001b[1;32mreturn\u001b[0m \u001b[1;33m(\u001b[0m\u001b[1;33m(\u001b[0m\u001b[0mTemperature\u001b[0m\u001b[1;33m-\u001b[0m\u001b[1;36m273\u001b[0m\u001b[1;33m)\u001b[0m\u001b[1;33m*\u001b[0m\u001b[1;36m1.8\u001b[0m\u001b[1;33m)\u001b[0m\u001b[1;33m+\u001b[0m\u001b[1;36m32\u001b[0m\u001b[1;33m\u001b[0m\u001b[1;33m\u001b[0m\u001b[0m\n\u001b[0;32m     10\u001b[0m \u001b[1;33m\u001b[0m\u001b[0m\n",
      "\u001b[1;31mAssertionError\u001b[0m: Colder than absolute zero!"
     ]
    }
   ],
   "source": [
    "'''\n",
    "Exceptional Handling\n",
    "\n",
    "'''\n",
    "\n",
    "# assert (a > 0),'not greater than 0'\n",
    "def KelvinToFahrenheit(Temperature):\n",
    "   assert (Temperature >= 0),\"Colder than absolute zero!\"\n",
    "   return ((Temperature-273)*1.8)+32\n",
    "\n",
    "print (KelvinToFahrenheit(273))\n",
    "print (int(KelvinToFahrenheit(505.78)))\n",
    "print (KelvinToFahrenheit(-5))\n"
   ]
  },
  {
   "cell_type": "code",
   "execution_count": 109,
   "metadata": {},
   "outputs": [
    {
     "name": "stdout",
     "output_type": "stream",
     "text": [
      "Written content in the file successfully\n"
     ]
    }
   ],
   "source": [
    "try:\n",
    "   fh = open(\"testfile\", \"w\")\n",
    "   fh.write(\"This is my test file for exception handling!!\")\n",
    "except IOError:\n",
    "   print (\"Error: can\\'t find file or read data\")\n",
    "else:\n",
    "   print (\"Written content in the file successfully\")\n",
    "   fh.close()\n",
    "    "
   ]
  },
  {
   "cell_type": "code",
   "execution_count": 110,
   "metadata": {},
   "outputs": [
    {
     "name": "stdout",
     "output_type": "stream",
     "text": [
      "The argument does not contain numbers\n",
      " invalid literal for int() with base 10: 'xyz'\n"
     ]
    }
   ],
   "source": [
    "def temp_convert(var):\n",
    "   try:\n",
    "      return int(var)\n",
    "   except ValueError as Argument:\n",
    "      print (\"The argument does not contain numbers\\n\", Argument)\n",
    "\n",
    "# Call above function here.\n",
    "temp_convert(\"xyz\")"
   ]
  },
  {
   "cell_type": "code",
   "execution_count": 111,
   "metadata": {},
   "outputs": [
    {
     "name": "stdout",
     "output_type": "stream",
     "text": [
      "error in level argument -10\n"
     ]
    }
   ],
   "source": [
    "# finally block exxecutes regardless the try has error or not\n",
    "\n",
    "def functionName( level ):\n",
    "   if level <1:\n",
    "      raise Exception(level) # exception name is Exception,arguments level\n",
    "      # The code below to this would not be executed\n",
    "      # if we raise the exception\n",
    "   return level\n",
    "\n",
    "try:\n",
    "   l = functionName(-10)\n",
    "   print (\"level = \",l)\n",
    "except Exception as e:\n",
    "   print (\"error in level argument\",e.args[0])"
   ]
  },
  {
   "cell_type": "code",
   "execution_count": null,
   "metadata": {},
   "outputs": [],
   "source": []
  }
 ],
 "metadata": {
  "kernelspec": {
   "display_name": "Python 3",
   "language": "python",
   "name": "python3"
  },
  "language_info": {
   "codemirror_mode": {
    "name": "ipython",
    "version": 3
   },
   "file_extension": ".py",
   "mimetype": "text/x-python",
   "name": "python",
   "nbconvert_exporter": "python",
   "pygments_lexer": "ipython3",
   "version": "3.7.6"
  }
 },
 "nbformat": 4,
 "nbformat_minor": 4
}
